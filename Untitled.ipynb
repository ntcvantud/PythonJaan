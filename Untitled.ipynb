{
 "cells": [
  {
   "cell_type": "code",
   "execution_count": null,
   "metadata": {},
   "outputs": [],
   "source": [
    "import numpy as np\n",
    "x = np.arange(-5, 5, 0.01)\n",
    "y = x ** 3\n",
    "\n",
    "# Đặt tên \n",
    "plt.title('Hàm y = x^3')\n",
    "plt.xlabel('Trục x')\n",
    "plt.ylabel('Trục y')\n",
    "\n",
    "# Hiển thị lưới \n",
    "plt.grid()\n",
    "\n",
    "# Vẽ plt.plot()\n",
    "plt.plot(x, y, label='y = x^3')\n",
    "\n",
    "# HIển thị chú thích \n",
    "plt.legend()\n",
    "\n",
    "# Hiển thị hình vẽ\n",
    "plt.show()\n"
   ]
  },
  {
   "cell_type": "code",
   "execution_count": null,
   "metadata": {},
   "outputs": [],
   "source": []
  },
  {
   "cell_type": "code",
   "execution_count": null,
   "metadata": {},
   "outputs": [],
   "source": []
  }
 ],
 "metadata": {
  "kernelspec": {
   "display_name": "Python 3",
   "language": "python",
   "name": "python3"
  }
 },
 "nbformat": 4,
 "nbformat_minor": 2
}
