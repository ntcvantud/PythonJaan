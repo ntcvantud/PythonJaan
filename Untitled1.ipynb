{
 "cells": [
  {
   "cell_type": "code",
   "execution_count": null,
   "metadata": {},
   "outputs": [],
   "source": [
    "\n",
    "# Chúng ta có thể sử dụng cách Import này \n",
    "\n",
    "from matplotlib import pyplot as plt \n",
    "from matplotlib import p\n",
    "\n",
    "# Hoặc một cách ngắn gọn hơn \n",
    "import matplotlib.pyplot as plt"
   ]
  },
  {
   "cell_type": "code",
   "execution_count": null,
   "metadata": {},
   "outputs": [],
   "source": [
    "import numpy as np\n",
    "x = np.arange(-5, 5, 0.01)\n",
    "y = x ** 3\n",
    "\n",
    "# Đặt tên \n",
    "plt.title('Hàm y = x^3')\n",
    "plt.xlabel('Trục x')\n",
    "plt.ylabel('Trục y')\n",
    "\n",
    "# Hiển thị lưới \n",
    "plt.grid()\n",
    "\n",
    "# Vẽ plt.plot()\n",
    "plt.plot(x, y, label='y = x^3')\n",
    "\n",
    "# HIển thị chú thích \n",
    "plt.legend()\n",
    "\n",
    "# Hiển thị hình vẽ\n",
    "plt.show()\n"
   ]
  }
 ],
 "metadata": {
  "kernelspec": {
   "display_name": "Python 3",
   "language": "python",
   "name": "python3"
  }
 },
 "nbformat": 4,
 "nbformat_minor": 2
}
